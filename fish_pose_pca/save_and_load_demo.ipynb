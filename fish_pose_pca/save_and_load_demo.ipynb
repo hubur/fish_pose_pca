{
 "cells": [
  {
   "cell_type": "code",
   "execution_count": 7,
   "metadata": {},
   "outputs": [],
   "source": [
    "from pathlib import Path\n",
    "import numpy as np\n",
    "import config\n",
    "import pca\n",
    "\n",
    "\n",
    "config_path = Path().home() / 'swp' / 'config.json'\n",
    "# config.create_config(config_path=config_path)\n",
    "config.load_config(config_path=config_path)\n",
    "\n",
    "pca_input = pca.get_pca_input()\n",
    "# transformed, fish_pca = pca.transform_fishes(n_components=6)\n",
    "\n",
    "pca_input_path = Path().home() / 'swp' / 'pca_input.npy'\n",
    "with open(pca_input_path, mode=\"wb\") as p:\n",
    "    np.save(file=p, arr=pca_input)\n",
    "\n",
    "with open(pca_input_path, mode='rb') as p:\n",
    "    loaded = np.load(file=p)\n",
    "\n",
    "loaded"
   ]
  }
 ],
 "metadata": {
  "kernelspec": {
   "display_name": "Python 3",
   "language": "python",
   "name": "python3"
  },
  "language_info": {
   "codemirror_mode": {
    "name": "ipython",
    "version": 3
   },
   "file_extension": ".py",
   "mimetype": "text/x-python",
   "name": "python",
   "nbconvert_exporter": "python",
   "pygments_lexer": "ipython3",
   "version": "3.7.2"
  }
 },
 "nbformat": 4,
 "nbformat_minor": 2
}
