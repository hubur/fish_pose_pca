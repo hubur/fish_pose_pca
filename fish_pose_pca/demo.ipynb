{
 "cells": [
  {
   "cell_type": "code",
   "execution_count": null,
   "metadata": {},
   "outputs": [],
   "source": [
    "from pathlib import Path\n",
    "import numpy as np\n",
    "import config\n",
    "import pca\n",
    "import visualization\n",
    "\n",
    "# Step 1: Put in your own path to the config file here\n",
    "config_path = Path().home() / 'swp' / 'config.json'\n",
    "# Step 2: Run with this line not-commented out: This will create a base config\n",
    "# Comment it again afterwards, because it will overwrite your config fie otherwise\n",
    "# You can edit the config file, look at config.py for more option\n",
    "# config.create_config(config_path=config_path)\n",
    "\n",
    "config.load_config(config_path=config_path)\n",
    "\n",
    "# This will do all the pca\n",
    "n_components = 5\n",
    "contours, filtered_blobs, filtered_metadata, pca_object, pca_input, transformed_fishes = pca.do_pca(n_components=n_components)\n",
    "\n",
    "# This will give you some visual feedback on what the pca produced. Look at visualization.py for more options\n",
    "visualization.print_variance_plot(pca_object=pca_object)\n",
    "visualization.print_pc_wiggle_effects(pca_object=pca_object,transformed_fishes=transformed_fishes)"
   ]
  }
 ],
 "metadata": {
  "kernelspec": {
   "display_name": "Python 3",
   "language": "python",
   "name": "python3"
  },
  "language_info": {
   "codemirror_mode": {
    "name": "ipython",
    "version": 3
   },
   "file_extension": ".py",
   "mimetype": "text/x-python",
   "name": "python",
   "nbconvert_exporter": "python",
   "pygments_lexer": "ipython3",
   "version": "3.6.8"
  }
 },
 "nbformat": 4,
 "nbformat_minor": 2
}
